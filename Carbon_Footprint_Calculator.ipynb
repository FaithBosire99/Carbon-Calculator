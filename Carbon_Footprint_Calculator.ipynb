{
  "nbformat": 4,
  "nbformat_minor": 0,
  "metadata": {
    "colab": {
      "provenance": [],
      "authorship_tag": "ABX9TyM2zDwTgmPWrnSlO+iAD3lT",
      "include_colab_link": true
    },
    "kernelspec": {
      "name": "python3",
      "display_name": "Python 3"
    },
    "language_info": {
      "name": "python"
    }
  },
  "cells": [
    {
      "cell_type": "markdown",
      "metadata": {
        "id": "view-in-github",
        "colab_type": "text"
      },
      "source": [
        "<a href=\"https://colab.research.google.com/github/FaithBosire99/Carbon-Calculator/blob/main/Carbon_Footprint_Calculator.ipynb\" target=\"_parent\"><img src=\"https://colab.research.google.com/assets/colab-badge.svg\" alt=\"Open In Colab\"/></a>"
      ]
    },
    {
      "cell_type": "code",
      "execution_count": null,
      "metadata": {
        "colab": {
          "base_uri": "https://localhost:8080/"
        },
        "id": "s6SQiow245f3",
        "outputId": "b846acfc-6650-48db-d132-40fe36a403ff"
      },
      "outputs": [
        {
          "name": "stdout",
          "output_type": "stream",
          "text": [
            "🌱 Welcome to the Carbon Footprint Calculator!\n",
            "Available categories: transport, electricity, flights, diet\n",
            "Type 'exit' anytime to quit.\n",
            "\n",
            "Enter category (Transport, Electricity, Flights, Diet): flights\n"
          ]
        }
      ],
      "source": [
        "def calculate(operation, num1, num2):\n",
        "    if operation == \"transport\":\n",
        "        # Assume 0.21 kg CO₂ per km driven\n",
        "        return round(num1 * 0.21 * 52, 2)  # convert weekly to annual\n",
        "\n",
        "    elif operation == \"electricity\":\n",
        "        # Assume 0.4 kg CO₂ per kWh used\n",
        "        return round(num1 * 0.4 * 12, 2)  # convert monthly to annual\n",
        "\n",
        "    elif operation == \"flights\":\n",
        "        # Short flight = 200 kg CO₂, Long flight = 600 kg CO₂\n",
        "        short_flights = num1\n",
        "        long_flights = num2\n",
        "        return round(short_flights * 200 + long_flights * 600, 2)\n",
        "\n",
        "    elif operation == \"diet\":\n",
        "        # Diet type: 1 = meat-heavy, 2 = mixed, 3 = vegetarian, 4 = vegan\n",
        "        emissions = {1: 3.3, 2: 2.5, 3: 1.7, 4: 1.5}  # daily kg CO₂\n",
        "        return round(emissions.get(num1, 0) * 365, 2)  # yearly kg CO₂\n",
        "\n",
        "    else:\n",
        "        return 0  # default for invalid operation\n",
        "\n",
        "\n",
        "# -------- Main Program --------\n",
        "print(\"🌱 Welcome to the Carbon Footprint Calculator!\")\n",
        "print(\"Available categories: transport, electricity, flights, diet\")\n",
        "print(\"Type 'exit' anytime to quit.\\n\")\n",
        "\n",
        "total_emissions = 0  # Accumulator for total CO₂ emissions\n",
        "\n",
        "while True:\n",
        "    operation = input(\"Enter category (Transport, Electricity, Flights, Diet): \").lower()\n",
        "\n",
        "    if operation == \"exit\":\n",
        "        print(\"\\n🧾 Your total estimated annual carbon footprint is:\", round(total_emissions, 2), \"kg CO₂\")\n",
        "        print(\"Thank you for your contribution towards zero-emmisions 🌱. Goodbye! 👋\")\n",
        "        break\n",
        "\n",
        "    if operation == \"transport\":\n",
        "        try:\n",
        "            km = float(input(\"Enter kilometers driven per week: \"))\n",
        "            result = calculate(\"transport\", km, 0)\n",
        "        except ValueError:\n",
        "            print(\"❌ Invalid number. Try again.\\n\")\n",
        "            continue\n",
        "\n",
        "    elif operation == \"electricity\":\n",
        "        try:\n",
        "            kwh = float(input(\"Enter kWh used per month: \"))\n",
        "            result = calculate(\"electricity\", kwh, 0)\n",
        "        except ValueError:\n",
        "            print(\"❌ Invalid number. Try again.\\n\")\n",
        "            continue\n",
        "\n",
        "    elif operation == \"flights\":\n",
        "        try:\n",
        "            short = int(input(\"Enter number of short flights per year: \"))\n",
        "            long = int(input(\"Enter number of long flights per year: \"))\n",
        "            result = calculate(\"flights\", short, long)\n",
        "        except ValueError:\n",
        "            print(\"❌ Invalid number. Try again.\\n\")\n",
        "            continue\n",
        "\n",
        "    elif operation == \"diet\":\n",
        "        print(\"Diet Types:\\n  1 = meat-heavy\\n  2 = mixed\\n  3 = vegetarian\\n  4 = vegan\")\n",
        "        try:\n",
        "            diet_type = int(input(\"Enter your diet type (1–4): \"))\n",
        "            if diet_type not in [1, 2, 3, 4]:\n",
        "                print(\"❌ Invalid choice. Try again.\\n\")\n",
        "                continue\n",
        "            result = calculate(\"diet\", diet_type, 0)\n",
        "        except ValueError:\n",
        "            print(\"❌ Invalid number. Try again.\\n\")\n",
        "            continue\n",
        "\n",
        "    else:\n",
        "        print(\"❌ Invalid category. Try again.\\n\")\n",
        "        continue\n",
        "\n",
        "    total_emissions += result\n",
        "    print(f\"✅ Estimated annual CO₂ for {operation}: {result} kg\")\n",
        "    print(f\"📊 Cumulative total so far: {round(total_emissions, 2)} kg CO₂\\n\" + \"-\" * 40)\n"
      ]
    }
  ]
}